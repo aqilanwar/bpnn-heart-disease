{
 "cells": [
  {
   "cell_type": "code",
   "execution_count": null,
   "metadata": {},
   "outputs": [],
   "source": [
    "# Import library\n",
    "from numpy import loadtxt\n",
    "from tensorflow.keras.models import Sequential\n",
    "from tensorflow.keras.layers import Dense\n",
    "\n",
    "# Load dataset\n",
    "dataset = loadtxt('heart_dataset.csv', delimiter=',')\n",
    "\n",
    "# Split into input (X) and output (y) variables\n",
    "X = dataset[:,0:13]\n",
    "y = dataset[:,13]\n",
    "# Define the keras model\n",
    "model = Sequential()\n",
    "\n",
    "#First hidden layer set to 50 nodes with relu activation function.\n",
    "model.add(Dense(13, input_shape=(13,), activation='relu'))\n",
    "\n",
    "#Second hidden layer set to 25 nodes with relu activation function.\n",
    "model.add(Dense(25, activation='relu'))\n",
    "\n",
    "#Output layer set to 1 nodes with sigmoid activation function.\n",
    "model.add(Dense(1, activation='sigmoid'))\n",
    "\n",
    "# compile the keras model\n",
    "model.compile(loss='binary_crossentropy', optimizer='adam', metrics=['accuracy'])\n",
    "\n",
    "# fit the keras model on the dataset\n",
    "model.fit(X, y, epochs=1000, batch_size=10)\n",
    "\n",
    "# evaluate the keras model\n",
    "_, accuracy = model.evaluate(X, y)\n",
    "print('Accuracy: %.2f' % (accuracy*100))"
   ]
  },
  {
   "cell_type": "code",
   "execution_count": null,
   "metadata": {},
   "outputs": [],
   "source": []
  }
 ],
 "metadata": {
  "kernelspec": {
   "display_name": "Python 3 (ipykernel)",
   "language": "python",
   "name": "python3"
  },
  "language_info": {
   "codemirror_mode": {
    "name": "ipython",
    "version": 3
   },
   "file_extension": ".py",
   "mimetype": "text/x-python",
   "name": "python",
   "nbconvert_exporter": "python",
   "pygments_lexer": "ipython3",
   "version": "3.9.7"
  },
  "vscode": {
   "interpreter": {
    "hash": "dd8a729e9011353bea70d827c4a883ab4de60514c57adf329a667d269e868491"
   }
  }
 },
 "nbformat": 4,
 "nbformat_minor": 2
}
