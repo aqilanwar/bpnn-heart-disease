{
 "cells": [
  {
   "cell_type": "code",
   "execution_count": null,
   "metadata": {},
   "outputs": [],
   "source": [
    "# Import library\n",
    "from numpy import loadtxt\n",
    "from tensorflow.keras.models import Sequential\n",
    "from tensorflow.keras.layers import Dense\n",
    "import keras\n",
    "from matplotlib import pyplot as plt\n",
    "import pandas as pd\n",
    "from sklearn.model_selection import train_test_split\n",
    "import numpy as np\n",
    "\n",
    "\n",
    "# Load dataset\n",
    "dataset = loadtxt('heart_dataset.csv', delimiter=',')\n",
    "#dataset = pd.read_csv(\"heart.csv\")\n",
    "\n",
    "# Split into input (X) and output (y) variables\n",
    "X = dataset[:,0:13]\n",
    "y = dataset[:,13]\n",
    "\n",
    "#y= dataset.target\n",
    "#input [13 col]\n",
    "#X=dataset.drop('target',axis=1)\n",
    "X_train,X_test,y_train,y_test=train_test_split(X,y,test_size=0.2,random_state=4)\n",
    "#print(X)\n",
    "\n",
    "\n",
    "# Define the keras model\n",
    "model = Sequential()\n",
    "\n",
    "#First hidden layer set to 13 nodes with sigmoid activation function.\n",
    "model.add(Dense(13,activation='sigmoid') )\n",
    "\n",
    "#Second hidden layer set to 10 nodes with sigmoid activation function.\n",
    "model.add(Dense(10, activation='sigmoid'))\n",
    "\n",
    "#Output layer set to 1 nodes with sigmoid activation function.\n",
    "model.add(Dense(1, activation='sigmoid'))\n",
    "\n",
    "# compile the keras model\n",
    "model.compile(loss='binary_crossentropy', optimizer='adam', metrics=['accuracy'])\n",
    "\n",
    "# fit the keras model on the dataset\n",
    "model.fit(X_train, y_train, epochs=100, batch_size=5)\n",
    "\n",
    "# evaluate the keras model\n",
    "#_,accuracy = model.evaluate(X, y)\n",
    "#print('Accuracy: %.2f' % (accuracy*100))\n",
    "\n",
    "trained = model.fit(X_train, y_train, epochs=100, batch_size=5)\n",
    "test = model.fit(X_test, y_test, epochs=100, batch_size=5)\n",
    "\n",
    "plt.plot(trained.history['accuracy'])\n",
    "plt.title('Accuracy')\n",
    "plt.ylabel('Value')\n",
    "plt.xlabel('epoch')\n",
    "plt.legend(['Accuracy'], loc='upper left')\n",
    "plt.show()\n",
    "\n",
    "plt.plot(trained.history['loss'])\n",
    "plt.title('Loss')\n",
    "plt.ylabel('Value')\n",
    "plt.xlabel('epoch')\n",
    "plt.legend(['Loss'], loc='upper left')\n",
    "plt.show()"
   ]
  },
  {
   "cell_type": "code",
   "execution_count": null,
   "metadata": {},
   "outputs": [],
   "source": [
    "\n",
    "predictions = (model.predict(X_test) > 0.5).astype(int)\n",
    "true=0\n",
    "false=0\n",
    "for i in range(200):\n",
    "    if predictions[i] == y_test[i]:\n",
    "        true = true +1\n",
    "        print('[%d] %s => %d (expected %d) BETUL' % (i,X_test[i].tolist(), predictions[i], y_test[i]))\n",
    "    else:\n",
    "        false = false +1\n",
    "        print('[%d] %s => %d (expected %d) SALAH' % (i,X_test[i].tolist(), predictions[i], y_test[i]))\n",
    "        \n",
    "print(\"Total false prediction : \" , false)\n",
    "print(\"Total true prediction : \" , true)\n",
    "print(\"Accuracy : \" , true/200*100)"
   ]
  },
  {
   "cell_type": "code",
   "execution_count": null,
   "metadata": {},
   "outputs": [],
   "source": [
    "trained = model.fit(X_train, y_train, epochs=100, batch_size=5)\n",
    "test = model.fit(X_test, y_test, epochs=100, batch_size=5)\n",
    "\n",
    "plt.plot(trained.history['accuracy'])\n",
    "plt.plot(test.history['accuracy'])\n",
    "\n",
    "plt.title('Accuracy')\n",
    "plt.ylabel('Value')\n",
    "plt.xlabel('epoch')\n",
    "plt.legend(['Accuracy Train' , 'Accuracy Test'], loc='upper left')\n",
    "plt.show()\n",
    "\n",
    "plt.plot(trained.history['loss'])\n",
    "plt.plot(test.history['loss'])\n",
    "\n",
    "plt.title('Loss')\n",
    "plt.ylabel('Value')\n",
    "plt.xlabel('epoch')\n",
    "plt.legend(['Loss Trained', 'Loss Test'], loc='upper left')\n",
    "plt.show()"
   ]
  },
  {
   "cell_type": "code",
   "execution_count": null,
   "metadata": {},
   "outputs": [],
   "source": []
  },
  {
   "cell_type": "code",
   "execution_count": null,
   "metadata": {},
   "outputs": [],
   "source": []
  },
  {
   "cell_type": "code",
   "execution_count": null,
   "metadata": {},
   "outputs": [],
   "source": []
  },
  {
   "cell_type": "code",
   "execution_count": null,
   "metadata": {},
   "outputs": [],
   "source": []
  },
  {
   "cell_type": "code",
   "execution_count": null,
   "metadata": {},
   "outputs": [],
   "source": []
  }
 ],
 "metadata": {
  "kernelspec": {
   "display_name": "Python 3 (ipykernel)",
   "language": "python",
   "name": "python3"
  },
  "language_info": {
   "codemirror_mode": {
    "name": "ipython",
    "version": 3
   },
   "file_extension": ".py",
   "mimetype": "text/x-python",
   "name": "python",
   "nbconvert_exporter": "python",
   "pygments_lexer": "ipython3",
   "version": "3.9.7"
  },
  "vscode": {
   "interpreter": {
    "hash": "dd8a729e9011353bea70d827c4a883ab4de60514c57adf329a667d269e868491"
   }
  }
 },
 "nbformat": 4,
 "nbformat_minor": 2
}
